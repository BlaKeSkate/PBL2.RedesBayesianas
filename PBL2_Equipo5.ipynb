{
 "cells": [
  {
   "cell_type": "markdown",
   "metadata": {},
   "source": [
    "# Actividad PBL 2. Redes Bayesianas\n",
    "\n",
    "### **Integrantes**\n",
    "* Salette Noemi Villalobos\n",
    "* Samuel Méndez Villegas\n",
    "* Paola Vega Ortega\n",
    "* Ethan Verduzco Pérez\n",
    "\n",
    "### **Docente**\n",
    "* Dr. Daniel Otero Fadul"
   ]
  },
  {
   "cell_type": "code",
   "execution_count": 5,
   "metadata": {},
   "outputs": [],
   "source": [
    "import networkx as nx # for drawing graphs\n",
    "import matplotlib.pyplot as plt # for drawing graphs\n",
    "\n",
    "# for creating Bayesian Belief Networks (BBN)\n",
    "from pybbn.graph.dag import Bbn ## Recurden instalarla desde la termanl \"pip install pybbn\"\n",
    "\n",
    "from pybbn.graph.edge import Edge, EdgeType\n",
    "from pybbn.graph.jointree import EvidenceBuilder\n",
    "from pybbn.graph.node import BbnNode\n",
    "from pybbn.graph.variable import Variable\n",
    "from pybbn.pptc.inferencecontroller import InferenceController"
   ]
  },
  {
   "cell_type": "code",
   "execution_count": 6,
   "metadata": {},
   "outputs": [],
   "source": [
    "concursante_probabilities = [1/3, 1/3, 1/3]\n",
    "premio_probabilities = [1/3, 1/3, 1/3]\n",
    "monty_probabilities = [0, 1/2, 1/2, \n",
    "                       0, 0, 1, \n",
    "                       0, 1, 0, \n",
    "                       0, 0, 1, \n",
    "                       1/2, 0, 1/2, \n",
    "                       1, 0, 0, \n",
    "                       0, 1, 0, \n",
    "                       1, 0, 0, \n",
    "                       1/2, 1/2, 0]\n",
    "\n",
    "concursante = BbnNode(Variable(0, 'Concursante', ['1', '2', '3']), concursante_probabilities)\n",
    "premio = BbnNode(Variable(1, 'Premio', ['1', '2', '3']), premio_probabilities)\n",
    "monty = BbnNode(Variable(2, 'Monty', ['1', '2', '3']), monty_probabilities)"
   ]
  },
  {
   "cell_type": "code",
   "execution_count": 7,
   "metadata": {},
   "outputs": [],
   "source": [
    "bbn = Bbn() \\\n",
    "    .add_node(concursante) \\\n",
    "    .add_node(premio) \\\n",
    "    .add_node(monty) \\\n",
    "    .add_edge(Edge(concursante, monty, EdgeType.DIRECTED)) \\\n",
    "    .add_edge(Edge(premio, monty, EdgeType.DIRECTED)) \\\n",
    "\n",
    "# Convert the BBN to a join tree\n",
    "join_tree = InferenceController.apply(bbn)"
   ]
  },
  {
   "cell_type": "code",
   "execution_count": 8,
   "metadata": {},
   "outputs": [
    {
     "name": "stderr",
     "output_type": "stream",
     "text": [
      "/Users/Samuel/anaconda3/lib/python3.7/site-packages/networkx/drawing/nx_pylab.py:579: MatplotlibDeprecationWarning: \n",
      "The iterable function was deprecated in Matplotlib 3.1 and will be removed in 3.3. Use np.iterable instead.\n",
      "  if not cb.iterable(width):\n",
      "/Users/Samuel/anaconda3/lib/python3.7/site-packages/networkx/drawing/nx_pylab.py:676: MatplotlibDeprecationWarning: \n",
      "The iterable function was deprecated in Matplotlib 3.1 and will be removed in 3.3. Use np.iterable instead.\n",
      "  if cb.iterable(node_size):  # many node sizes\n"
     ]
    },
    {
     "data": {
      "image/png": "[encoded data removed]",
      "text/plain": [
       "<Figure size 432x288 with 1 Axes>"
      ]
     },
     "metadata": {},
     "output_type": "display_data"
    }
   ],
   "source": [
    "# Set node positions\n",
    "pos = {0: (-1, 0.5), 1: (1, 0.5), 2: (0, 0)}\n",
    "\n",
    "# Set options for graph looks\n",
    "options = {\"font_size\" : 16, \"node_size\" : 11000, \"node_color\" : \"yellow\", \n",
    "           \"edgecolors\" : \"black\", \"edge_color\" : \"red\", \"linewidths\" : 5, \n",
    "           \"width\": 5}\n",
    "    \n",
    "# Generate graph\n",
    "n, d = bbn.to_nx_graph()\n",
    "nx.draw(n, with_labels=True, labels=d, pos=pos, **options)\n",
    "\n",
    "# Update margins and print the graph\n",
    "ax = plt.gca()\n",
    "ax.margins(0.3)\n",
    "plt.axis(\"off\")\n",
    "plt.show()"
   ]
  },
  {
   "cell_type": "code",
   "execution_count": 9,
   "metadata": {},
   "outputs": [
    {
     "name": "stdout",
     "output_type": "stream",
     "text": [
      "Node: 1|Premio|1,2,3\n",
      "Values:\n",
      "1=1|0.33333\n",
      "1=2|0.33333\n",
      "1=3|0.33333\n",
      "----------------\n",
      "Node: 2|Monty|1,2,3\n",
      "Values:\n",
      "2=1|0.33333\n",
      "2=2|0.33333\n",
      "2=3|0.33333\n",
      "----------------\n",
      "Node: 0|Concursante|1,2,3\n",
      "Values:\n",
      "0=1|0.33333\n",
      "0=2|0.33333\n",
      "0=3|0.33333\n",
      "----------------\n"
     ]
    }
   ],
   "source": [
    "# Define a function for printing marginal probabilities\n",
    "def print_probs():\n",
    "    for node in join_tree.get_bbn_nodes():\n",
    "        potential = join_tree.get_bbn_potential(node)\n",
    "        print(\"Node:\", node)\n",
    "        print(\"Values:\")\n",
    "        print(potential)\n",
    "        print('----------------')\n",
    "    \n",
    "# Use the above function to print marginal probabilities\n",
    "print_probs()"
   ]
  },
  {
   "cell_type": "code",
   "execution_count": 10,
   "metadata": {},
   "outputs": [],
   "source": [
    "# To add evidence of events that happened so probability distribution can be recalculated\n",
    "def evidence(ev, nod, cat, val):\n",
    "    ev = EvidenceBuilder() \\\n",
    "    .with_node(join_tree.get_bbn_node_by_name(nod)) \\\n",
    "    .with_evidence(cat, val) \\\n",
    "    .build()\n",
    "    join_tree.set_observation(ev)"
   ]
  },
  {
   "cell_type": "code",
   "execution_count": 11,
   "metadata": {},
   "outputs": [
    {
     "name": "stdout",
     "output_type": "stream",
     "text": [
      "Node: 1|Premio|1,2,3\n",
      "Values:\n",
      "1=1|0.33333\n",
      "1=2|0.00000\n",
      "1=3|0.66667\n",
      "----------------\n",
      "Node: 2|Monty|1,2,3\n",
      "Values:\n",
      "2=1|0.00000\n",
      "2=2|1.00000\n",
      "2=3|0.00000\n",
      "----------------\n",
      "Node: 0|Concursante|1,2,3\n",
      "Values:\n",
      "0=1|1.00000\n",
      "0=2|0.00000\n",
      "0=3|0.00000\n",
      "----------------\n"
     ]
    }
   ],
   "source": [
    "# Use above function to add evidence\n",
    "evidence('ev1', 'Concursante', '1', 1)\n",
    "evidence('ev2', 'Monty', '2', 1)\n",
    "\n",
    "# Print marginal probabilities\n",
    "print_probs()"
   ]
  },
  {
   "cell_type": "code",
   "execution_count": 12,
   "metadata": {},
   "outputs": [],
   "source": [
    "join_tree = InferenceController.apply(bbn)"
   ]
  },
  {
   "cell_type": "code",
   "execution_count": 13,
   "metadata": {},
   "outputs": [],
   "source": [
    "import pandas as pd"
   ]
  },
  {
   "cell_type": "code",
   "execution_count": 14,
   "metadata": {
    "scrolled": true
   },
   "outputs": [
    {
     "data": {
      "text/html": [
       "<div>\n",
       "<style scoped>\n",
       "    .dataframe tbody tr th:only-of-type {\n",
       "        vertical-align: middle;\n",
       "    }\n",
       "\n",
       "    .dataframe tbody tr th {\n",
       "        vertical-align: top;\n",
       "    }\n",
       "\n",
       "    .dataframe thead th {\n",
       "        text-align: right;\n",
       "    }\n",
       "</style>\n",
       "<table border=\"1\" class=\"dataframe\">\n",
       "  <thead>\n",
       "    <tr style=\"text-align: right;\">\n",
       "      <th></th>\n",
       "      <th>Pregnancies</th>\n",
       "      <th>Glucose</th>\n",
       "      <th>BloodPressure</th>\n",
       "      <th>SkinThickness</th>\n",
       "      <th>Insulin</th>\n",
       "      <th>BMI</th>\n",
       "      <th>DiabetesPedigreeFunction</th>\n",
       "      <th>Age</th>\n",
       "      <th>Outcome</th>\n",
       "    </tr>\n",
       "  </thead>\n",
       "  <tbody>\n",
       "    <tr>\n",
       "      <th>0</th>\n",
       "      <td>2</td>\n",
       "      <td>138</td>\n",
       "      <td>62</td>\n",
       "      <td>35</td>\n",
       "      <td>0</td>\n",
       "      <td>33.6</td>\n",
       "      <td>0.127</td>\n",
       "      <td>47</td>\n",
       "      <td>1</td>\n",
       "    </tr>\n",
       "    <tr>\n",
       "      <th>1</th>\n",
       "      <td>0</td>\n",
       "      <td>84</td>\n",
       "      <td>82</td>\n",
       "      <td>31</td>\n",
       "      <td>125</td>\n",
       "      <td>38.2</td>\n",
       "      <td>0.233</td>\n",
       "      <td>23</td>\n",
       "      <td>0</td>\n",
       "    </tr>\n",
       "    <tr>\n",
       "      <th>2</th>\n",
       "      <td>0</td>\n",
       "      <td>145</td>\n",
       "      <td>0</td>\n",
       "      <td>0</td>\n",
       "      <td>0</td>\n",
       "      <td>44.2</td>\n",
       "      <td>0.630</td>\n",
       "      <td>31</td>\n",
       "      <td>1</td>\n",
       "    </tr>\n",
       "    <tr>\n",
       "      <th>3</th>\n",
       "      <td>0</td>\n",
       "      <td>135</td>\n",
       "      <td>68</td>\n",
       "      <td>42</td>\n",
       "      <td>250</td>\n",
       "      <td>42.3</td>\n",
       "      <td>0.365</td>\n",
       "      <td>24</td>\n",
       "      <td>1</td>\n",
       "    </tr>\n",
       "    <tr>\n",
       "      <th>4</th>\n",
       "      <td>1</td>\n",
       "      <td>139</td>\n",
       "      <td>62</td>\n",
       "      <td>41</td>\n",
       "      <td>480</td>\n",
       "      <td>40.7</td>\n",
       "      <td>0.536</td>\n",
       "      <td>21</td>\n",
       "      <td>0</td>\n",
       "    </tr>\n",
       "  </tbody>\n",
       "</table>\n",
       "</div>"
      ],
      "text/plain": [
       "   Pregnancies  Glucose  BloodPressure  SkinThickness  Insulin   BMI  \\\n",
       "0            2      138             62             35        0  33.6   \n",
       "1            0       84             82             31      125  38.2   \n",
       "2            0      145              0              0        0  44.2   \n",
       "3            0      135             68             42      250  42.3   \n",
       "4            1      139             62             41      480  40.7   \n",
       "\n",
       "   DiabetesPedigreeFunction  Age  Outcome  \n",
       "0                     0.127   47        1  \n",
       "1                     0.233   23        0  \n",
       "2                     0.630   31        1  \n",
       "3                     0.365   24        1  \n",
       "4                     0.536   21        0  "
      ]
     },
     "execution_count": 14,
     "metadata": {},
     "output_type": "execute_result"
    }
   ],
   "source": [
    "diabetes = pd.read_csv('diabetes-dataset.csv')\n",
    "diabetes.head()"
   ]
  },
  {
   "cell_type": "markdown",
   "metadata": {},
   "source": [
    "![](diabetes.png)"
   ]
  },
  {
   "cell_type": "code",
   "execution_count": 15,
   "metadata": {},
   "outputs": [
    {
     "data": {
      "text/plain": [
       "count    1972.000000\n",
       "mean       32.650101\n",
       "std         7.241027\n",
       "min        18.200000\n",
       "25%        27.500000\n",
       "50%        32.400000\n",
       "75%        36.800000\n",
       "max        80.600000\n",
       "Name: BMI, dtype: float64"
      ]
     },
     "execution_count": 15,
     "metadata": {},
     "output_type": "execute_result"
    }
   ],
   "source": [
    "diabetes['BMI'][diabetes['BMI'] > 0].describe()"
   ]
  },
  {
   "cell_type": "code",
   "execution_count": 16,
   "metadata": {},
   "outputs": [],
   "source": [
    "monty_problem_dictionary = {'Concursante' : [], 'Premio' : [], \n",
    "                            'Monty' : ['Concursante', 'Premio']}"
   ]
  },
  {
   "cell_type": "code",
   "execution_count": 17,
   "metadata": {},
   "outputs": [],
   "source": [
    "monty_problem_tables = {'Concursante' : [1/3, 1/3, 1/3], 'Premio' : [1/3, 1/3, 1/3], \n",
    "                            'Monty' : [0, 1/2, 1/2, \n",
    "                                       0, 0, 1, \n",
    "                                       0, 1, 0, \n",
    "                                       0, 0, 1, \n",
    "                                       1/2, 0, 1/2, \n",
    "                                       1, 0, 0, \n",
    "                                       0, 1, 0, \n",
    "                                       1, 0, 0, \n",
    "                                       1/2, 1/2, 0]}"
   ]
  },
  {
   "cell_type": "code",
   "execution_count": 18,
   "metadata": {},
   "outputs": [
    {
     "data": {
      "text/plain": [
       "count    2000.000000\n",
       "mean       33.090500\n",
       "std        11.786423\n",
       "min        21.000000\n",
       "25%        24.000000\n",
       "50%        29.000000\n",
       "75%        40.000000\n",
       "max        81.000000\n",
       "Name: Age, dtype: float64"
      ]
     },
     "execution_count": 18,
     "metadata": {},
     "output_type": "execute_result"
    }
   ],
   "source": [
    "diabetes['Age'][diabetes['Age'] > 0].describe()"
   ]
  },
  {
   "cell_type": "code",
   "execution_count": 19,
   "metadata": {},
   "outputs": [
    {
     "data": {
      "text/plain": [
       "0.2305"
      ]
     },
     "execution_count": 19,
     "metadata": {},
     "output_type": "execute_result"
    }
   ],
   "source": [
    "diabetes[diabetes['Age'] < 24].shape[0] / diabetes['Age'].shape[0]"
   ]
  }
 ],
 "metadata": {
  "kernelspec": {
   "display_name": "Python 3",
   "language": "python",
   "name": "python3"
  },
  "language_info": {
   "codemirror_mode": {
    "name": "ipython",
    "version": 3
   },
   "file_extension": ".py",
   "mimetype": "text/x-python",
   "name": "python",
   "nbconvert_exporter": "python",
   "pygments_lexer": "ipython3",
   "version": "3.7.6"
  }
 },
 "nbformat": 4,
 "nbformat_minor": 2
}
